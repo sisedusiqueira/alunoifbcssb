{
  "nbformat": 4,
  "nbformat_minor": 0,
  "metadata": {
    "colab": {
      "provenance": [],
      "authorship_tag": "ABX9TyNK+jRw4VlO3HJmB9oGAvxK",
      "include_colab_link": true
    },
    "kernelspec": {
      "name": "python3",
      "display_name": "Python 3"
    },
    "language_info": {
      "name": "python"
    }
  },
  "cells": [
    {
      "cell_type": "markdown",
      "metadata": {
        "id": "view-in-github",
        "colab_type": "text"
      },
      "source": [
        "<a href=\"https://colab.research.google.com/github/sisedusiqueira/alunoifbcssb/blob/main/Python_POO.ipynb\" target=\"_parent\"><img src=\"https://colab.research.google.com/assets/colab-badge.svg\" alt=\"Open In Colab\"/></a>"
      ]
    },
    {
      "cell_type": "markdown",
      "source": [
        "Programação Orientada a Objetos com Python\n",
        "\n",
        "A programação orientada a objetos (POO) é um paradigma de programação que permite organizar e estruturar o código de forma mais eficiente e modular, enfatizando o conceito de \"objetos\". Os objetos são representações de entidades do mundo real, que possuem características (atributos) e comportamentos (métodos). Python é uma linguagem de programação que suporta fortemente a POO, tornando-a uma escolha popular para desenvolvimento em diversos níveis de complexidade.\n",
        "\n",
        "A seguir, explicarei a POO com Python em três níveis: iniciante, intermediário e avançado, juntamente com exemplos em cada nível.\n",
        "\n",
        "## Nível Iniciante:\n",
        "\n",
        "Neste nível, focamos na criação de classes simples com atributos e métodos básicos.\n",
        "\n",
        "## Nível Iniciante:\n",
        "\n",
        "Neste nível, focamos na criação de classes simples com atributos e métodos básicos.\n",
        "\n",
        "### Explicação:\n",
        "- Uma classe é definida usando a palavra-chave `class`.\n",
        "- Os atributos são variáveis que representam as características do objeto.\n",
        "- Os métodos são funções que definem os comportamentos do objeto.\n",
        "\n",
        "### Exemplo:\n"
      ],
      "metadata": {
        "id": "FiWEgMmPQNfM"
      }
    },
    {
      "cell_type": "code",
      "execution_count": 4,
      "metadata": {
        "colab": {
          "base_uri": "https://localhost:8080/"
        },
        "id": "n4YGlxvXPy46",
        "outputId": "90e53c0a-7d94-4b5b-db50-a44416927443"
      },
      "outputs": [
        {
          "output_type": "stream",
          "name": "stdout",
          "text": [
            "Toyota Corolla acelerando.\n",
            "Toyota Corolla freando.\n"
          ]
        }
      ],
      "source": [
        "class Carro:\n",
        "    def __init__(self, marca, modelo, ano):\n",
        "        self.marca = marca\n",
        "        self.modelo = modelo\n",
        "        self.ano = ano\n",
        "\n",
        "    def acelerar(self):\n",
        "        print(f\"{self.marca} {self.modelo} acelerando.\")\n",
        "\n",
        "    def frear(self):\n",
        "        print(f\"{self.marca} {self.modelo} freando.\")\n",
        "\n",
        "\n",
        "# Uso da classe Carro\n",
        "meu_carro = Carro(\"Toyota\", \"Corolla\", 2022)\n",
        "meu_carro.acelerar()\n",
        "\n",
        "meu_carro.frear()\n"
      ]
    },
    {
      "cell_type": "markdown",
      "source": [
        "## Nível Intermediário:\n",
        "\n",
        "Neste nível, veremos herança, encapsulamento e polimorfismo, conceitos fundamentais da POO.\n",
        "\n",
        "### Explicação:\n",
        "- Herança permite que uma classe (subclasse) herde atributos e métodos de outra classe (superclasse).\n",
        "- Encapsulamento é a ideia de ocultar detalhes internos de uma classe e expor apenas a interface pública.\n",
        "- Polimorfismo permite que diferentes classes compartilhem um mesmo método, mas com comportamentos específicos.\n",
        "\n",
        "### Exemplo:"
      ],
      "metadata": {
        "id": "Py5LZwulRIYs"
      }
    },
    {
      "cell_type": "code",
      "source": [
        "\n",
        "class Animal:\n",
        "    def __init__(self, nome):\n",
        "        self.nome = nome\n",
        "\n",
        "    def fazer_som(self):\n",
        "        pass\n",
        "\n",
        "\n",
        "class Cachorro(Animal):\n",
        "    def fazer_som(self):\n",
        "        return \"Au Au!\"\n",
        "\n",
        "\n",
        "class Gato(Animal):\n",
        "    def fazer_som(self):\n",
        "        return \"Miau Miau!\"\n",
        "\n",
        "# Uso do polimorfismo\n",
        "animais = [Cachorro(\"Rex\"), Gato(\"Frajola\")]\n",
        "\n",
        "for animal in animais:\n",
        "    print(animal.nome + \":\", animal.fazer_som())\n"
      ],
      "metadata": {
        "colab": {
          "base_uri": "https://localhost:8080/"
        },
        "id": "4W5k4qGkQfUk",
        "outputId": "69b33bd8-0c0b-4d92-c6d1-adc4d9b78dab"
      },
      "execution_count": 5,
      "outputs": [
        {
          "output_type": "stream",
          "name": "stdout",
          "text": [
            "Rex: Au Au!\n",
            "Frajola: Miau Miau!\n"
          ]
        }
      ]
    },
    {
      "cell_type": "markdown",
      "source": [
        "## Nível Avançado:\n",
        "\n",
        "Neste nível, abordamos conceitos avançados como métodos especiais, herança múltipla e composição.\n",
        "\n",
        "### Explicação:\n",
        "- Métodos especiais são identificados pelo uso de dunder (double-underscore) antes e depois do nome do método, como `__init__`.\n",
        "- Herança múltipla é a capacidade de uma classe herdar de mais de uma classe.\n",
        "- Composição é uma alternativa à herança, onde um objeto contém outros objetos como parte de sua estrutura.\n",
        "\n",
        "### Exemplo:\n"
      ],
      "metadata": {
        "id": "rLrJweAIRT18"
      }
    },
    {
      "cell_type": "code",
      "source": [
        "class Ponto:\n",
        "    def __init__(self, x, y):\n",
        "        self.x = x\n",
        "        self.y = y\n",
        "\n",
        "    def __str__(self):\n",
        "        return f\"({self.x}, {self.y})\"\n",
        "\n",
        "\n",
        "class Circulo:\n",
        "    def __init__(self, centro, raio):\n",
        "        self.centro = centro\n",
        "        self.raio = raio\n",
        "\n",
        "    def __str__(self):\n",
        "        return f\"Círculo de raio {self.raio} no ponto {self.centro}\"\n",
        "\n",
        "\n",
        "# Composição\n",
        "ponto_central = Ponto(0, 0)\n",
        "meu_circulo = Circulo(ponto_central, 5)\n",
        "print(meu_circulo)\n",
        "\n",
        "\n"
      ],
      "metadata": {
        "id": "kZDSuaGrRaL3"
      },
      "execution_count": null,
      "outputs": []
    },
    {
      "cell_type": "markdown",
      "source": [
        "Esses exemplos abordam conceitos básicos, intermediários e avançados da programação orientada a objetos em Python. À medida que você avança no aprendizado, pode explorar outros tópicos, como herança múltipla, métodos estáticos, classes abstratas, interfaces, entre outros, para se aprofundar ainda mais no mundo da POO.\n"
      ],
      "metadata": {
        "id": "ILzpFYG4RcnB"
      }
    },
    {
      "cell_type": "markdown",
      "source": [
        "Abaixo estão mais 12 exemplos, seguindo o padrão de nível iniciante, intermediário e avançado:"
      ],
      "metadata": {
        "id": "u_ZjzswvRli6"
      }
    },
    {
      "cell_type": "code",
      "source": [
        "## Nível Iniciante:\n",
        "\n",
        "### Exemplo 1 - Classe Pessoa:\n",
        "\n",
        "class Pessoa:\n",
        "    def __init__(self, nome, idade):\n",
        "        self.nome = nome\n",
        "        self.idade = idade\n",
        "\n",
        "    def apresentar(self):\n",
        "        print(f\"Olá, meu nome é {self.nome} e tenho {self.idade} anos.\")\n",
        "\n",
        "\n",
        "# Uso da classe Pessoa\n",
        "pessoa1 = Pessoa(\"João\", 30)\n",
        "pessoa1.apresentar()\n"
      ],
      "metadata": {
        "id": "7ouiWlyzRfub"
      },
      "execution_count": null,
      "outputs": []
    },
    {
      "cell_type": "code",
      "source": [
        "### Exemplo 2 - Classe Retângulo:\n",
        "\n",
        "class Retangulo:\n",
        "    def __init__(self, comprimento, altura):\n",
        "        self.comprimento = comprimento\n",
        "        self.altura = altura\n",
        "\n",
        "    def calcular_area(self):\n",
        "        return self.comprimento * self.altura\n",
        "\n",
        "\n",
        "# Uso da classe Retangulo\n",
        "retangulo1 = Retangulo(5, 3)\n",
        "print(\"Área do retângulo:\", retangulo1.calcular_area())\n",
        "\n"
      ],
      "metadata": {
        "id": "q4188UcyRr98"
      },
      "execution_count": null,
      "outputs": []
    },
    {
      "cell_type": "code",
      "source": [
        "## Nível Intermediário:\n",
        "\n",
        "### Exemplo 3 - Classe Animal com Encapsulamento:\n",
        "\n",
        "class Animal:\n",
        "    def __init__(self, nome, especie):\n",
        "        self._nome = nome\n",
        "        self._especie = especie\n",
        "\n",
        "    def fazer_som(self):\n",
        "        pass\n",
        "\n",
        "    def apresentar(self):\n",
        "        print(f\"Eu sou um(a) {self._especie} chamado(a) {self._nome}.\")\n",
        "\n",
        "\n",
        "class Cachorro(Animal):\n",
        "    def fazer_som(self):\n",
        "        return \"Au Au!\"\n",
        "\n",
        "\n",
        "class Gato(Animal):\n",
        "    def fazer_som(self):\n",
        "        return \"Miau Miau!\"\n",
        "\n",
        "\n",
        "# Uso das classes com encapsulamento\n",
        "animal1 = Cachorro(\"Rex\", \"Cachorro\")\n",
        "animal1.apresentar()\n",
        "print(\"Som:\", animal1.fazer_som())\n",
        "\n",
        "animal2 = Gato(\"Frajola\", \"Gato\")\n",
        "animal2.apresentar()\n",
        "print(\"Som:\", animal2.fazer_som())\n",
        "\n"
      ],
      "metadata": {
        "id": "pdzF21WjR4BE"
      },
      "execution_count": null,
      "outputs": []
    },
    {
      "cell_type": "code",
      "source": [
        "### Exemplo 4 - Classe Calculadora:\n",
        "\n",
        "class Calculadora:\n",
        "    def __init__(self):\n",
        "        self._resultado = 0\n",
        "\n",
        "    def somar(self, num1, num2):\n",
        "        self._resultado = num1 + num2\n",
        "\n",
        "    def subtrair(self, num1, num2):\n",
        "        self._resultado = num1 - num2\n",
        "\n",
        "    def obter_resultado(self):\n",
        "        return self._resultado\n",
        "\n",
        "\n",
        "# Uso da classe Calculadora\n",
        "calculadora = Calculadora()\n",
        "calculadora.somar(5, 3)\n",
        "print(\"Resultado:\", calculadora.obter_resultado())\n",
        "calculadora.subtrair(10, 3)\n",
        "print(\"Resultado:\", calculadora.obter_resultado())\n",
        "\n",
        "\n"
      ],
      "metadata": {
        "id": "hOMO2SxvR_lK"
      },
      "execution_count": null,
      "outputs": []
    },
    {
      "cell_type": "code",
      "source": [
        "## Nível Avançado:\n",
        "\n",
        "### Exemplo 5 - Herança Múltipla:\n",
        "\n",
        "class A:\n",
        "    def mostrar(self):\n",
        "        print(\"Método mostrar da classe A\")\n",
        "\n",
        "\n",
        "class B:\n",
        "    def mostrar(self):\n",
        "        print(\"Método mostrar da classe B\")\n",
        "\n",
        "\n",
        "class C(A, B):\n",
        "    pass\n",
        "\n",
        "\n",
        "# Uso da herança múltipla\n",
        "objeto_c = C()\n",
        "objeto_c.mostrar()  # Vai chamar o método mostrar da classe A (primeira na ordem de herança)\n",
        "\n"
      ],
      "metadata": {
        "id": "-yDXVKaVSFdi"
      },
      "execution_count": null,
      "outputs": []
    },
    {
      "cell_type": "code",
      "source": [
        "### Exemplo 6 - Método Estático:\n",
        "\n",
        "class Matematica:\n",
        "    @staticmethod\n",
        "    def soma(num1, num2):\n",
        "        return num1 + num2\n",
        "\n",
        "    @staticmethod\n",
        "    def multiplicacao(num1, num2):\n",
        "        return num1 * num2\n",
        "\n",
        "\n",
        "# Uso do método estático\n",
        "resultado_soma = Matematica.soma(5, 3)\n",
        "resultado_mult = Matematica.multiplicacao(5, 3)\n",
        "\n",
        "print(\"Resultado da soma:\", resultado_soma)\n",
        "print(\"Resultado da multiplicação:\", resultado_mult)\n",
        "\n",
        "\n",
        "\n"
      ],
      "metadata": {
        "id": "03RE3HFgSL0Z"
      },
      "execution_count": null,
      "outputs": []
    },
    {
      "cell_type": "code",
      "source": [
        "## Nível Avançado (Continuação):\n",
        "\n",
        "### Exemplo 7 - Classe Abstrata:\n",
        "\n",
        "from abc import ABC, abstractmethod\n",
        "\n",
        "\n",
        "class Veiculo(ABC):\n",
        "    def __init__(self, marca, modelo):\n",
        "        self.marca = marca\n",
        "        self.modelo = modelo\n",
        "\n",
        "    @abstractmethod\n",
        "    def acelerar(self):\n",
        "        pass\n",
        "\n",
        "\n",
        "class Carro(Veiculo):\n",
        "    def acelerar(self):\n",
        "        print(f\"{self.marca} {self.modelo} acelerando.\")\n",
        "\n",
        "\n",
        "class Moto(Veiculo):\n",
        "    def acelerar(self):\n",
        "        print(f\"{self.marca} {self.modelo} acelerando a moto.\")\n",
        "\n",
        "\n",
        "# Uso da classe abstrata e polimorfismo\n",
        "meu_carro = Carro(\"Toyota\", \"Corolla\")\n",
        "minha_moto = Moto(\"Honda\", \"CBR\")\n",
        "\n",
        "meu_carro.acelerar()\n",
        "minha_moto.acelerar()\n",
        "\n"
      ],
      "metadata": {
        "id": "xCkSQIdTSY1J"
      },
      "execution_count": null,
      "outputs": []
    },
    {
      "cell_type": "markdown",
      "source": [
        "### Exemplo 8 - Composição Avançada:\n",
        "\n",
        "```python\n",
        "class Motor:\n",
        "    def __init__(self, tipo):\n",
        "        self.tipo = tipo\n",
        "\n",
        "    def ligar(self):\n",
        "        print(f\"Motor {self.tipo} ligado.\")\n",
        "\n",
        "    def desligar(self):\n",
        "        print(f\"Motor {self.tipo} desligado.\")\n",
        "\n",
        "\n",
        "class Carro:\n",
        "    def __init__(self, marca, modelo):\n",
        "        self.marca = marca\n",
        "        self.modelo = modelo\n",
        "        self.motor = Motor(\"V8\")  # Composição: o Carro tem um Motor\n",
        "\n",
        "    def ligar(self):\n",
        "        print(f\"{self.marca} {self.modelo} ligado.\")\n",
        "        self.motor.ligar()\n",
        "\n",
        "    def desligar(self):\n",
        "        print(f\"{self.marca} {self.modelo} desligado.\")\n",
        "        self.motor.desligar()\n",
        "\n",
        "\n",
        "# Uso da composição avançada\n",
        "meu_carro = Carro(\"Ford\", \"Mustang\")\n",
        "meu_carro.ligar()\n",
        "meu_carro.desligar()\n",
        "```\n",
        "\n",
        "Espero que estes exemplos adicionais te ajudem a compreender melhor a programação orientada a objetos em Python em níveis mais avançados. Lembre-se de praticar e explorar mais recursos da linguagem para aprimorar suas habilidades em POO.\n",
        "\n",
        "\n",
        "Claro! Vou explicar cada um dos códigos adicionais que apresentei anteriormente.\n"
      ],
      "metadata": {
        "id": "H_508euWUSII"
      }
    },
    {
      "cell_type": "code",
      "source": [
        "## Nível Iniciante:\n",
        "\n",
        "### Exemplo 1 - Classe Pessoa:\n",
        "\n",
        "Neste exemplo, criamos uma classe chamada `Pessoa` que representa uma pessoa com nome e idade. A classe tem um método chamado `apresentar()` que exibe uma mensagem com o nome e a idade da pessoa.\n",
        "\n",
        "class Pessoa:\n",
        "    def __init__(self, nome, idade):\n",
        "        self.nome = nome\n",
        "        self.idade = idade\n",
        "\n",
        "    def apresentar(self):\n",
        "        print(f\"Olá, meu nome é {self.nome} e tenho {self.idade} anos.\")\n",
        "\n",
        "\n",
        "# Uso da classe Pessoa\n",
        "pessoa1 = Pessoa(\"João\", 30)\n",
        "pessoa1.apresentar()\n",
        "\n"
      ],
      "metadata": {
        "id": "oDx5wSBAVSPq"
      },
      "execution_count": null,
      "outputs": []
    },
    {
      "cell_type": "code",
      "source": [
        "## Exemplo 2 - Classe Retângulo:\n",
        "\n",
        "Neste exemplo, criamos uma classe `Retangulo` para representar um retângulo. A classe tem um construtor `__init__` que recebe o comprimento e a altura do retângulo. Além disso, temos um método chamado `calcular_area()` que calcula a área do retângulo.\n",
        "\n",
        "class Retangulo:\n",
        "    def __init__(self, comprimento, altura):\n",
        "        self.comprimento = comprimento\n",
        "        self.altura = altura\n",
        "\n",
        "    def calcular_area(self):\n",
        "        return self.comprimento * self.altura\n",
        "\n",
        "\n",
        "\n",
        "# Uso da classe Retangulo\n",
        "retangulo1 = Retangulo(5, 3)\n",
        "print(\"Área do retângulo:\", retangulo1.calcular_area())\n",
        "\n"
      ],
      "metadata": {
        "id": "znnz-6NKVZnw"
      },
      "execution_count": null,
      "outputs": []
    },
    {
      "cell_type": "code",
      "source": [
        "## Nível Intermediário:\n",
        "\n",
        "### Exemplo 3 - Classe Animal com Encapsulamento:\n",
        "\n",
        "Neste exemplo, criamos uma classe `Animal` que é uma classe base para representar animais. A classe possui dois atributos protegidos (`_nome` e `_especie`) e um método `apresentar()`, que mostra informações sobre o animal. Além disso, temos duas classes derivadas `Cachorro` e `Gato` que herdam da classe `Animal`. Cada uma dessas classes filhas implementa o método `fazer_som()` de maneira diferente.\n",
        "\n",
        "class Animal:\n",
        "    def __init__(self, nome, especie):\n",
        "        self._nome = nome\n",
        "        self._especie = especie\n",
        "\n",
        "    def fazer_som(self):\n",
        "        pass\n",
        "\n",
        "    def apresentar(self):\n",
        "        print(f\"Eu sou um(a) {self._especie} chamado(a) {self._nome}.\")\n",
        "\n",
        "\n",
        "class Cachorro(Animal):\n",
        "    def fazer_som(self):\n",
        "        return \"Au Au!\"\n",
        "\n",
        "\n",
        "class Gato(Animal):\n",
        "    def fazer_som(self):\n",
        "        return \"Miau Miau!\"\n",
        "\n",
        "\n",
        "# Uso das classes com encapsulamento\n",
        "animal1 = Cachorro(\"Rex\", \"Cachorro\")\n",
        "animal1.apresentar()\n",
        "print(\"Som:\", animal1.fazer_som())\n",
        "\n",
        "\n",
        "animal2 = Gato(\"Frajola\", \"Gato\")\n",
        "animal2.apresentar()\n",
        "print(\"Som:\", animal2.fazer_som())\n",
        "\n"
      ],
      "metadata": {
        "id": "OvmJS5mSVi2J"
      },
      "execution_count": null,
      "outputs": []
    },
    {
      "cell_type": "code",
      "source": [
        "## Exemplo 4 - Classe Calculadora:\n",
        "\n",
        "Neste exemplo, criamos uma classe `Calculadora` que possui um atributo protegido `_resultado` para armazenar o resultado das operações. A classe tem três métodos: `somar()`, `subtrair()` e `obter_resultado()`. Os métodos `somar()` e `subtrair()` recebem dois números como argumentos e atualizam o valor do atributo `_resultado` com a soma ou subtração dos números. O método `obter_resultado()` retorna o valor do atributo `_resultado`.\n",
        "\n",
        "class Calculadora:\n",
        "    def __init__(self):\n",
        "        self._resultado = 0\n",
        "\n",
        "    def somar(self, num1, num2):\n",
        "        self._resultado = num1 + num2\n",
        "\n",
        "    def subtrair(self, num1, num2):\n",
        "        self._resultado = num1 - num2\n",
        "\n",
        "    def obter_resultado(self):\n",
        "        return self._resultado\n",
        "\n",
        "\n",
        "# Uso da classe Calculadora\n",
        "calculadora = Calculadora()\n",
        "calculadora.somar(5, 3)\n",
        "print(\"Resultado:\", calculadora.obter_resultado())\n",
        "calculadora.subtrair(10, 3)\n",
        "print(\"Resultado:\", calculadora.obter_resultado())\n",
        "\n"
      ],
      "metadata": {
        "id": "ym0Eb75_VqqY"
      },
      "execution_count": null,
      "outputs": []
    },
    {
      "cell_type": "code",
      "source": [
        "## Nível Avançado:\n",
        "\n",
        "### Exemplo 5 - Herança Múltipla:\n",
        "\n",
        "Neste exemplo, criamos três classes: `A`, `B` e `C`. As classes `A` e `B` têm um método chamado `mostrar()`. A classe `C` herda tanto de `A` quanto de `B`, criando uma herança múltipla. Como resultado, a\n",
        "\n",
        "classe `C` possui os métodos `mostrar()` de ambas as classes `A` e `B`.\n",
        "\n",
        "class A:\n",
        "    def mostrar(self):\n",
        "        print(\"Método mostrar da classe A\")\n",
        "\n",
        "\n",
        "class B:\n",
        "    def mostrar(self):\n",
        "        print(\"Método mostrar da classe B\")\n",
        "\n",
        "\n",
        "class C(A, B):\n",
        "    pass\n",
        "\n",
        "\n",
        "# Uso da herança múltipla\n",
        "objeto_c = C()\n",
        "objeto_c.mostrar()  # Vai chamar o método mostrar da classe A (primeira na ordem de herança)\n"
      ],
      "metadata": {
        "id": "dvmgvTlDVuFX"
      },
      "execution_count": null,
      "outputs": []
    },
    {
      "cell_type": "code",
      "source": [
        "### Exemplo 6 - Método Estático:\n",
        "\n",
        "Neste exemplo, criamos uma classe `Matematica` com dois métodos estáticos: `soma()` e `multiplicacao()`. Os métodos estáticos são marcados com o decorador `@staticmethod`, o que os torna independentes da instância da classe. Eles podem ser chamados diretamente na classe sem a necessidade de criar um objeto.\n",
        "\n",
        "class Matematica:\n",
        "    @staticmethod\n",
        "    def soma(num1, num2):\n",
        "        return num1 + num2\n",
        "\n",
        "    @staticmethod\n",
        "    def multiplicacao(num1, num2):\n",
        "        return num1 * num2\n",
        "\n",
        "\n",
        "# Uso do método estático\n",
        "resultado_soma = Matematica.soma(5, 3)\n",
        "\n",
        "resultado_mult = Matematica.multiplicacao(5, 3)\n",
        "\n",
        "print(\"Resultado da soma:\", resultado_soma)\n",
        "print(\"Resultado da multiplicação:\", resultado_mult)\n"
      ],
      "metadata": {
        "id": "4PY0w9zlV0Zv"
      },
      "execution_count": null,
      "outputs": []
    },
    {
      "cell_type": "code",
      "source": [
        "## Nível Avançado (Continuação):\n",
        "\n",
        "### Exemplo 7 - Classe Abstrata:\n",
        "\n",
        "Neste exemplo, usamos o módulo `abc` para criar uma classe abstrata `Veiculo`. Essa classe contém um método abstrato `acelerar()`, que não possui implementação. Uma classe abstrata não pode ser instanciada diretamente, mas pode ser usada como uma classe base para outras classes.\n",
        "\n",
        "from abc import ABC, abstractmethod\n",
        "\n",
        "\n",
        "class Veiculo(ABC):\n",
        "    def __init__(self, marca, modelo):\n",
        "        self.marca = marca\n",
        "        self.modelo = modelo\n",
        "\n",
        "    @abstractmethod\n",
        "    def acelerar(self):\n",
        "        pass\n",
        "\n",
        "\n",
        "class Carro(Veiculo):\n",
        "    def acelerar(self):\n",
        "\n",
        "\n",
        "        print(f\"{self.marca} {self.modelo} acelerando.\")\n",
        "\n",
        "\n",
        "class Moto(Veiculo):\n",
        "    def acelerar(self):\n",
        "        print(f\"{self.marca} {self.modelo} acelerando a moto.\")\n",
        "\n",
        "\n",
        "# Uso da classe abstrata e polimorfismo\n",
        "meu_carro = Carro(\"Toyota\", \"Corolla\")\n",
        "\n",
        "minha_moto = Moto(\"Honda\", \"CBR\")\n",
        "\n",
        "meu_carro.acelerar()\n",
        "minha_moto.acelerar()\n"
      ],
      "metadata": {
        "id": "8KUjmhVTV4OJ"
      },
      "execution_count": null,
      "outputs": []
    },
    {
      "cell_type": "code",
      "source": [
        "### Exemplo 8 - Composição Avançada:\n",
        "\n",
        "Neste exemplo, criamos duas classes: `Motor` e `Carro`. A classe `Motor` representa um motor com um tipo específico. A classe `Carro` possui um atributo `motor`, que é uma instância da classe `Motor`. Isso é chamado de composição, onde um objeto contém outros objetos como parte de sua estrutura.\n",
        "\n",
        "class Motor:\n",
        "    def __init__(self, tipo):\n",
        "        self.tipo = tipo\n",
        "\n",
        "    def ligar(self):\n",
        "        print(f\"Motor {self.tipo} ligado.\")\n",
        "\n",
        "    def desligar(self):\n",
        "        print(f\"Motor {self.tipo} desligado.\")\n",
        "\n",
        "\n",
        "class Carro:\n",
        "    def __init__(self, marca, modelo):\n",
        "        self.marca = marca\n",
        "        self.modelo = modelo\n",
        "        self.motor = Motor(\"V8\")  # Composição: o Carro tem um Motor\n",
        "\n",
        "    def ligar(self):\n",
        "        print(f\"{self.marca} {self.modelo} ligado.\")\n",
        "        self.motor.ligar()\n",
        "\n",
        "    def desligar(self):\n",
        "        print(f\"{self.marca} {self.modelo} desligado.\")\n",
        "        self.motor.desligar()\n",
        "\n",
        "\n",
        "# Uso da composição avançada\n",
        "meu_carro = Carro(\"Ford\", \"Mustang\")\n",
        "meu_carro.ligar()\n",
        "meu_carro.desligar()\n"
      ],
      "metadata": {
        "id": "Coq8BabKV9BY"
      },
      "execution_count": null,
      "outputs": []
    },
    {
      "cell_type": "markdown",
      "source": [
        "Espero que essas explicações tenham esclarecido o funcionamento de cada exemplo. A programação orientada a objetos em Python oferece muitas possibilidades e recursos avançados para desenvolver soluções complexas e bem estruturadas. Com prática e estudo contínuo, você poderá utilizar esses conceitos para criar projetos cada vez mais sofisticados.\n",
        "\n",
        "\n",
        "Claro! Vou apresentar alguns exemplos de problemas comuns que os professores costumam passar em avaliações para testar o entendimento dos alunos em programação orientada a objetos com Python.\n"
      ],
      "metadata": {
        "id": "EHL6NGhrV-uo"
      }
    },
    {
      "cell_type": "code",
      "source": [
        "### Exemplo 1 - Classe Aluno:\n",
        "\n",
        "class Aluno:\n",
        "    def __init__(self, nome, matricula):\n",
        "        self.nome = nome\n",
        "        self.matricula = matricula\n",
        "        self.notas = []\n",
        "\n",
        "    def adicionar_nota(self, nota):\n",
        "        self.notas.append(nota)\n",
        "\n",
        "    def calcular_media(self):\n",
        "        if not self.notas:\n",
        "            return 0\n",
        "        return sum(self.notas) / len(self.notas)\n",
        "\n",
        "\n",
        "# Uso da classe Aluno\n",
        "aluno1 = Aluno(\"João\", \"2021001\")\n",
        "aluno1.adicionar_nota(8.5)\n",
        "aluno1.adicionar_nota(7.9)\n",
        "aluno1.adicionar_nota(6.5)\n",
        "print(f\"Média do aluno {aluno1.nome}: {aluno1.calcular_media()}\")\n"
      ],
      "metadata": {
        "id": "Mt2AU-mZV-Wv"
      },
      "execution_count": null,
      "outputs": []
    },
    {
      "cell_type": "code",
      "source": [
        "### Exemplo 2 - Herança e Polimorfismo:\n",
        "\n",
        "class Animal:\n",
        "    def __init__(self, nome):\n",
        "\n",
        "self.nome = nome\n",
        "\n",
        "    def fazer_som(self):\n",
        "        pass\n",
        "\n",
        "\n",
        "class Cachorro(Animal):\n",
        "    def fazer_som(self):\n",
        "        return \"Au Au!\"\n",
        "\n",
        "\n",
        "class Gato(Animal):\n",
        "    def fazer_som(self):\n",
        "        return \"Miau Miau!\"\n",
        "\n",
        "\n",
        "# Uso do polimorfismo\n",
        "animais = [Cachorro(\"Rex\"), Gato(\"Frajola\")]\n",
        "\n",
        "for animal in animais:\n",
        "    print(animal.nome + \":\", animal.fazer_som())\n"
      ],
      "metadata": {
        "id": "GNa7i_sAWSS5"
      },
      "execution_count": null,
      "outputs": []
    },
    {
      "cell_type": "code",
      "source": [
        "### Exemplo 3 - Classe Conta Bancária:\n",
        "\n",
        "class ContaBancaria:\n",
        "    def __init__(self, saldo_inicial):\n",
        "        self.saldo = saldo_inicial\n",
        "\n",
        "    def depositar(self, valor):\n",
        "        self.saldo += valor\n",
        "\n",
        "    def sacar(self, valor):\n",
        "        if valor <= self.saldo:\n",
        "            self.saldo -= valor\n",
        "            return True\n",
        "        return False\n",
        "\n",
        "\n",
        "# Uso da classe ContaBancaria\n",
        "conta = ContaBancaria(1000)\n",
        "conta.depositar(500)\n",
        "print(\"Saldo após depósito:\", conta.saldo)\n",
        "if conta.sacar(300):\n",
        "\n",
        "print(\"Saque realizado com sucesso.\")\n",
        "else:\n",
        "    print(\"Saldo insuficiente para o saque.\")\n"
      ],
      "metadata": {
        "id": "g1Z1soH8WVhf"
      },
      "execution_count": null,
      "outputs": []
    },
    {
      "cell_type": "code",
      "source": [
        "### Exemplo 4 - Composição:\n",
        "\n",
        "class Motor:\n",
        "    def __init__(self, tipo):\n",
        "        self.tipo = tipo\n",
        "\n",
        "    def ligar(self):\n",
        "        print(f\"Motor {self.tipo} ligado.\")\n",
        "\n",
        "    def desligar(self):\n",
        "        print(f\"Motor {self.tipo} desligado.\")\n",
        "\n",
        "\n",
        "class Carro:\n",
        "    def __init__(self, marca, modelo):\n",
        "        self.marca = marca\n",
        "        self.modelo = modelo\n",
        "        self.motor = Motor(\"V8\")  # Composição: o Carro tem um Motor\n",
        "\n",
        "    def ligar(self):\n",
        "        print(f\"{self.marca} {self.modelo} ligado.\")\n",
        "        self.motor.ligar()\n",
        "\n",
        "    def desligar(self):\n",
        "        print(f\"{self.marca} {self.modelo} desligado.\")\n",
        "        self.motor.desligar()\n",
        "\n",
        "\n",
        "# Uso da composição\n",
        "meu_carro = Carro(\"Ford\", \"Mustang\")\n",
        "meu_carro.ligar()\n",
        "meu_carro.desligar()\n"
      ],
      "metadata": {
        "id": "61wVo__OWZTX"
      },
      "execution_count": null,
      "outputs": []
    },
    {
      "cell_type": "code",
      "source": [
        "### Exemplo 5 - Classe Abstrata:\n",
        "\n",
        "from abc import ABC, abstractmethod\n",
        "\n",
        "\n",
        "class FiguraGeometrica(ABC):\n",
        "    @abstractmethod\n",
        "    def calcular_area(self):\n",
        "        pass\n",
        "\n",
        "\n",
        "class Retangulo(FiguraGeometrica):\n",
        "    def __init__(self, base, altura):\n",
        "        self.base = base\n",
        "        self.altura = altura\n",
        "\n",
        "    def calcular_area(self):\n",
        "        return self.base * self.altura\n",
        "\n",
        "\n",
        "class Circulo(FiguraGeometrica):\n",
        "    def __init__(self, raio):\n",
        "        self.raio = raio\n",
        "\n",
        "    def calcular_area(self):\n",
        "        return 3.14 * self.raio * self.raio\n",
        "\n",
        "\n",
        "# Uso da classe abstrata e polimorfismo\n",
        "retangulo = Retangulo(4, 6)\n",
        "circulo = Circulo(5)\n",
        "\n",
        "print(\"Área do Retângulo:\", retangulo.calcular_area())\n",
        "print(\"Área do Círculo:\", circulo.calcular_area())\n",
        "\n"
      ],
      "metadata": {
        "id": "20_7KGOjWetY"
      },
      "execution_count": null,
      "outputs": []
    },
    {
      "cell_type": "markdown",
      "source": [
        "Esses exemplos abordam problemas comuns em programação orientada a objetos e testam o conhecimento do aluno em conceitos como herança, polimorfismo, composição e classes abstratas. É importante praticar e entender bem esses conceitos para ser capaz de resolver problemas mais complexos em programação orientada a objetos com Python.\n",
        "\n",
        "\n",
        "Com certeza! Vamos explorar mais exemplos de problemas que os professores costumam passar em avaliações para praticar programação orientada a objetos em Python.\n"
      ],
      "metadata": {
        "id": "sZ6xdSYdWiNv"
      }
    },
    {
      "cell_type": "code",
      "source": [
        "### Exemplo 6 - Classe Banco:\n",
        "\n",
        "class Conta:\n",
        "    def __init__(self, numero_conta, saldo_inicial):\n",
        "        self.numero_conta = numero_conta\n",
        "        self.saldo = saldo_inicial\n",
        "\n",
        "    def depositar(self, valor):\n",
        "        self.saldo += valor\n",
        "\n",
        "    def sacar(self, valor):\n",
        "        if valor <= self.saldo:\n",
        "            self.saldo -= valor\n",
        "            return True\n",
        "        return False\n",
        "\n",
        "\n",
        "class Banco:\n",
        "    def __init__(self):\n",
        "        self.contas = {}\n",
        "\n",
        "    def criar_conta(self, numero_conta, saldo_inicial):\n",
        "        if numero_conta not in self.contas:\n",
        "            nova_conta = Conta(numero_conta, saldo_inicial)\n",
        "            self.contas[numero_conta] = nova_conta\n",
        "            return True\n",
        "        return False\n",
        "\n",
        "    def depositar(self, numero_conta, valor):\n",
        "        if numero_conta in self.contas:\n",
        "            self.contas[numero_conta].depositar(valor)\n",
        "            return True\n",
        "        return False\n",
        "\n",
        "    def sacar(self, numero_conta, valor):\n",
        "        if numero_conta in self.contas:\n",
        "            return self.contas[numero_conta].sacar(valor)\n",
        "        return False\n",
        "\n",
        "    def consultar_saldo(self, numero_conta):\n",
        "        if numero_conta in self.contas:\n",
        "            return self.contas[numero_conta].saldo\n",
        "        return None\n",
        "\n",
        "\n",
        "\n",
        "# Uso da classe Banco\n",
        "banco = Banco()\n",
        "banco.criar_conta(\"12345\", 1000)\n",
        "banco.depositar(\"12345\", 500)\n",
        "banco.sacar(\"12345\", 300)\n",
        "print(\"Saldo da conta 12345:\", banco.consultar_saldo(\"12345\"))\n"
      ],
      "metadata": {
        "id": "rDrUC6GwWisP"
      },
      "execution_count": null,
      "outputs": []
    },
    {
      "cell_type": "code",
      "source": [
        "### Exemplo 7 - Classe Triângulo:\n",
        "\n",
        "class Triangulo:\n",
        "    def __init__(self, a, b, c):\n",
        "        self.a = a\n",
        "        self.b = b\n",
        "        self.c = c\n",
        "\n",
        "    def verificar_tipo(self):\n",
        "        if self.a == self.b == self.c:\n",
        "            return \"Equilátero\"\n",
        "        elif self.a == self.b or self.a == self.c or self.b == self.c:\n",
        "            return \"Isósceles\"\n",
        "        else:\n",
        "            return \"Escaleno\"\n",
        "\n",
        "\n",
        "# Uso da classe Triangulo\n",
        "triangulo1 = Triangulo(5, 5, 5)\n",
        "triangulo2 = Triangulo(5, 5, 6)\n",
        "triangulo3 = Triangulo(3, 4, 5)\n",
        "\n",
        "print(\"Triângulo 1:\", triangulo1.verificar_tipo())\n",
        "print(\"Triângulo 2:\", triangulo2.verificar_tipo())\n",
        "print(\"Triângulo 3:\", triangulo3.verificar_tipo())\n",
        "\n",
        "\n"
      ],
      "metadata": {
        "id": "try6YNQAXYTO"
      },
      "execution_count": null,
      "outputs": []
    },
    {
      "cell_type": "code",
      "source": [
        "### Exemplo 8 - Herança e Método Especial:\n",
        "\n",
        "class Pessoa:\n",
        "    def __init__(self, nome, idade):\n",
        "        self.nome = nome\n",
        "        self.idade = idade\n",
        "\n",
        "    def __str__(self):\n",
        "\n",
        "return f\"{self.nome}, {self.idade} anos\"\n",
        "\n",
        "\n",
        "class Aluno(Pessoa):\n",
        "    def __init__(self, nome, idade, matricula):\n",
        "        super().__init__(nome, idade)\n",
        "        self.matricula = matricula\n",
        "\n",
        "    def __str__(self):\n",
        "        return f\"{super().__str__()}, Matrícula: {self.matricula}\"\n",
        "\n",
        "\n",
        "# Uso da herança e método especial\n",
        "pessoa1 = Pessoa(\"João\", 30)\n",
        "aluno1 = Aluno(\"Maria\", 22, \"2021001\")\n",
        "\n",
        "print(pessoa1)\n",
        "print(aluno1)\n",
        "\n"
      ],
      "metadata": {
        "id": "x0LchmRfXcB9"
      },
      "execution_count": null,
      "outputs": []
    },
    {
      "cell_type": "code",
      "source": [
        "### Exemplo 9 - Classe Carrinho de Compras:\n",
        "\n",
        "class Produto:\n",
        "    def __init__(self, nome, preco):\n",
        "        self.nome = nome\n",
        "        self.preco = preco\n",
        "\n",
        "\n",
        "class CarrinhoDeCompras:\n",
        "    def __init__(self):\n",
        "        self.produtos = []\n",
        "\n",
        "    def adicionar_produto(self, produto):\n",
        "        self.produtos.append(produto)\n",
        "\n",
        "    def calcular_total(self):\n",
        "        total = 0\n",
        "        for produto in self.produtos:\n",
        "            total += produto.preco\n",
        "        return total\n",
        "\n",
        "\n",
        "# Uso da classe CarrinhoDeCompras\n",
        "produto1 = Produto(\"Camiseta\", 30)\n",
        "produto2 = Produto(\"Calça Jeans\", 60)\n",
        "produto3 = Produto(\"Tênis\", 80)\n",
        "\n",
        "carrinho = CarrinhoDeCompras()\n",
        "carrinho.adicionar_produto(produto1)\n",
        "carrinho.adicionar_produto(produto2)\n",
        "carrinho.adicionar_produto(produto3)\n",
        "\n",
        "print(\"Total da compra:\", carrinho.calcular_total())\n"
      ],
      "metadata": {
        "id": "D5NhVVQ6XnaA"
      },
      "execution_count": null,
      "outputs": []
    },
    {
      "cell_type": "code",
      "source": [
        "### Exemplo 10 - Classe Agenda:\n",
        "\n",
        "class Contato:\n",
        "    def __init__(self, nome, telefone):\n",
        "        self.nome = nome\n",
        "        self.telefone = telefone\n",
        "\n",
        "    def __str__(self):\n",
        "        return f\"{self.nome}: {self.telefone}\"\n",
        "\n",
        "\n",
        "class Agenda:\n",
        "    def __init__(self):\n",
        "        self.contatos = []\n",
        "\n",
        "    def adicionar_contato(self, contato):\n",
        "        self.contatos.append(contato)\n",
        "\n",
        "    def buscar_contato(self, nome):\n",
        "        for contato in self.contatos:\n",
        "            if contato.nome == nome:\n",
        "                return contato\n",
        "        return None\n",
        "\n",
        "    def __str__(self):\n",
        "        if not self.contatos:\n",
        "            return \"Agenda vazia.\"\n",
        "        return \"\\n\".join(str(contato) for contato in self.contatos)\n",
        "\n",
        "\n",
        "# Uso da classe Agenda\n",
        "agenda = Agenda()\n",
        "contato1 = Contato(\"João\", \"9999-1111\")\n",
        "\n",
        "contato2 = Contato(\"Maria\", \"8888-2222\")\n",
        "agenda.adicionar_contato(contato1)\n",
        "agenda.adicionar_contato(contato2)\n",
        "\n",
        "print(agenda)\n",
        "busca_contato = agenda.buscar_contato(\"João\")\n",
        "if busca_contato:\n",
        "    print(\"Contato encontrado:\", busca_contato)\n",
        "else:\n",
        "    print(\"Contato não encontrado.\")\n"
      ],
      "metadata": {
        "id": "16xFQ84JXsL2"
      },
      "execution_count": null,
      "outputs": []
    },
    {
      "cell_type": "markdown",
      "source": [
        "Espero que esses exemplos adicionais te ajudem a praticar e aprofundar seus conhecimentos em programação orientada a objetos em Python. A resolução desses problemas em uma avaliação será uma ótima oportunidade para demonstrar suas habilidades de programação e compreensão dos conceitos apresentados. Boa prática e sucesso nos estudos!\n"
      ],
      "metadata": {
        "id": "h8PZDTPgXzRL"
      }
    }
  ]
}